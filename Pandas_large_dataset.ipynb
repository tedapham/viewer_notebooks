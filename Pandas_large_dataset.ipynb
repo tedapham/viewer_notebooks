{
 "cells": [
  {
   "cell_type": "markdown",
   "metadata": {},
   "source": [
    "# Assignment 1: EXPLORE PANDAS FOR A LARGE DATASET\n"
   ]
  },
  {
   "cell_type": "markdown",
   "metadata": {},
   "source": [
    "We will explore CMS (Centers for Medicare & Medicade Services) 2018 Program Year Open Payments Dataset.\n",
    "\n",
    "\n",
    "\n",
    "\n",
    "<em>Open Payments, which is managed by the Centers for Medicare & Medicaid Services (CMS), is a national disclosure program created by the Affordable Care Act (ACA). The program promotes transparency and accountability by helping consumers understand the financial relationships between pharmaceutical and medical device industries, and physicians and teaching hospitals. These financial relationships may include consulting fees, research grants, travel reimbursements, and payments made from the industry to medical practitioners.\n",
    "It is important to note that financial ties between the health care industry and health care providers do not necessarily indicate an improper relationship.\n",
    "This document provides a guide to how CMS publishes the informational data gathered by Open Payments for public use. It explains the sources of the data, the data files that are available from CMS, and the fields contained in each data file. View the data and learn more about the Open Payments program by visiting https://www.cms.gov/openpayments/index.html.\"</em>\n",
    "For more details on the data https://www.cms.gov/OpenPayments/Downloads/OpenPaymentsDataDictionary.pdf\n",
    "\n",
    "Data Link Download here\n",
    "https://www.cms.gov/OpenPayments/Explore-the-Data/Dataset-Downloads\n",
    "\n",
    "Summary of the data is here\n",
    "https://openpaymentsdata.cms.gov/summary\n",
    "\n",
    "The files include information about general payments, research payments\n",
    "The general payments information is in OP_DTL_GNRL_PGYR2018_P01172020.csv which is ~ 6.2GB, a large dataset in this case. \n",
    "Our working assumption is that each row corresponds to a payment and we'll ignore any row with an NaN value.\n",
    "We will try to use Pandas to answer some exploratory questions:\n",
    "1. What was the total payments in 2018?\n",
    "2. What were the top 10 states receiving the most total amount of payments?\n",
    "3. What were the top 10 states with the highest average amount of payment? **(Assignment 1)**\n",
    "4. What were the 3 top physician specialty with the highest average amount of payments in CA and FL? **(Assignment 1)**\n",
    "\n",
    "**References**\n",
    "1. pandas read_csv manual\n",
    "- https://pandas.pydata.org/pandas-docs/stable/reference/api/pandas.read_csv.html\n",
    "2. dataquest tutorial on how to use pandas with big data\n",
    "- https://www.dataquest.io/blog/pandas-big-data/\n"
   ]
  },
  {
   "cell_type": "code",
   "execution_count": 1,
   "metadata": {
    "collapsed": true
   },
   "outputs": [],
   "source": [
    "import pandas as pd"
   ]
  },
  {
   "cell_type": "code",
   "execution_count": 2,
   "metadata": {},
   "outputs": [
    {
     "name": "stdout",
     "output_type": "stream",
     "text": [
      "OP_DTL_GNRL_PGYR2018_P01172020.csv\r\n",
      "OP_DTL_OWNRSHP_PGYR2018_P01172020.csv\r\n",
      "OP_DTL_RSRCH_PGYR2018_P01172020.csv\r\n",
      "\u001b[31mOP_PGYR2018_README_P01172020.txt\u001b[m\u001b[m\r\n",
      "OP_REMOVED_DELETED_PGYR2018_P01172020.csv\r\n",
      "Pandas_large_dataset.ipynb\r\n",
      "Pandas_large_dataset.ipynb.zip\r\n"
     ]
    }
   ],
   "source": [
    "!ls"
   ]
  },
  {
   "cell_type": "code",
   "execution_count": null,
   "metadata": {
    "collapsed": true
   },
   "outputs": [],
   "source": [
    "#-This would take forever\n",
    "df = pd.read_csv(\"OP_DTL_GNRL_PGYR2018_P01172020.csv\",low_memory=False)"
   ]
  },
  {
   "cell_type": "code",
   "execution_count": 3,
   "metadata": {},
   "outputs": [
    {
     "name": "stdout",
     "output_type": "stream",
     "text": [
      "Index(['Change_Type', 'Covered_Recipient_Type', 'Teaching_Hospital_CCN',\n",
      "       'Teaching_Hospital_ID', 'Teaching_Hospital_Name',\n",
      "       'Physician_Profile_ID', 'Physician_First_Name', 'Physician_Middle_Name',\n",
      "       'Physician_Last_Name', 'Physician_Name_Suffix',\n",
      "       'Recipient_Primary_Business_Street_Address_Line1',\n",
      "       'Recipient_Primary_Business_Street_Address_Line2', 'Recipient_City',\n",
      "       'Recipient_State', 'Recipient_Zip_Code', 'Recipient_Country',\n",
      "       'Recipient_Province', 'Recipient_Postal_Code', 'Physician_Primary_Type',\n",
      "       'Physician_Specialty', 'Physician_License_State_code1',\n",
      "       'Physician_License_State_code2', 'Physician_License_State_code3',\n",
      "       'Physician_License_State_code4', 'Physician_License_State_code5',\n",
      "       'Submitting_Applicable_Manufacturer_or_Applicable_GPO_Name',\n",
      "       'Applicable_Manufacturer_or_Applicable_GPO_Making_Payment_ID',\n",
      "       'Applicable_Manufacturer_or_Applicable_GPO_Making_Payment_Name',\n",
      "       'Applicable_Manufacturer_or_Applicable_GPO_Making_Payment_State',\n",
      "       'Applicable_Manufacturer_or_Applicable_GPO_Making_Payment_Country',\n",
      "       'Total_Amount_of_Payment_USDollars', 'Date_of_Payment',\n",
      "       'Number_of_Payments_Included_in_Total_Amount',\n",
      "       'Form_of_Payment_or_Transfer_of_Value',\n",
      "       'Nature_of_Payment_or_Transfer_of_Value', 'City_of_Travel',\n",
      "       'State_of_Travel', 'Country_of_Travel', 'Physician_Ownership_Indicator',\n",
      "       'Third_Party_Payment_Recipient_Indicator',\n",
      "       'Name_of_Third_Party_Entity_Receiving_Payment_or_Transfer_of_Value',\n",
      "       'Charity_Indicator', 'Third_Party_Equals_Covered_Recipient_Indicator',\n",
      "       'Contextual_Information', 'Delay_in_Publication_Indicator', 'Record_ID',\n",
      "       'Dispute_Status_for_Publication', 'Related_Product_Indicator',\n",
      "       'Covered_or_Noncovered_Indicator_1',\n",
      "       'Indicate_Drug_or_Biological_or_Device_or_Medical_Supply_1',\n",
      "       'Product_Category_or_Therapeutic_Area_1',\n",
      "       'Name_of_Drug_or_Biological_or_Device_or_Medical_Supply_1',\n",
      "       'Associated_Drug_or_Biological_NDC_1',\n",
      "       'Covered_or_Noncovered_Indicator_2',\n",
      "       'Indicate_Drug_or_Biological_or_Device_or_Medical_Supply_2',\n",
      "       'Product_Category_or_Therapeutic_Area_2',\n",
      "       'Name_of_Drug_or_Biological_or_Device_or_Medical_Supply_2',\n",
      "       'Associated_Drug_or_Biological_NDC_2',\n",
      "       'Covered_or_Noncovered_Indicator_3',\n",
      "       'Indicate_Drug_or_Biological_or_Device_or_Medical_Supply_3',\n",
      "       'Product_Category_or_Therapeutic_Area_3',\n",
      "       'Name_of_Drug_or_Biological_or_Device_or_Medical_Supply_3',\n",
      "       'Associated_Drug_or_Biological_NDC_3',\n",
      "       'Covered_or_Noncovered_Indicator_4',\n",
      "       'Indicate_Drug_or_Biological_or_Device_or_Medical_Supply_4',\n",
      "       'Product_Category_or_Therapeutic_Area_4',\n",
      "       'Name_of_Drug_or_Biological_or_Device_or_Medical_Supply_4',\n",
      "       'Associated_Drug_or_Biological_NDC_4',\n",
      "       'Covered_or_Noncovered_Indicator_5',\n",
      "       'Indicate_Drug_or_Biological_or_Device_or_Medical_Supply_5',\n",
      "       'Product_Category_or_Therapeutic_Area_5',\n",
      "       'Name_of_Drug_or_Biological_or_Device_or_Medical_Supply_5',\n",
      "       'Associated_Drug_or_Biological_NDC_5', 'Program_Year',\n",
      "       'Payment_Publication_Date'],\n",
      "      dtype='object')\n"
     ]
    }
   ],
   "source": [
    "#-Read only the first 100 rows and explore the columns\n",
    "df = pd.read_csv(\"OP_DTL_GNRL_PGYR2018_P01172020.csv\", nrows=100)\n",
    "print(df.columns)"
   ]
  },
  {
   "cell_type": "markdown",
   "metadata": {},
   "source": [
    "## 1. What was the total payments in 2018?"
   ]
  },
  {
   "cell_type": "code",
   "execution_count": 4,
   "metadata": {
    "collapsed": true
   },
   "outputs": [],
   "source": [
    "#%%timeit -n1 -r3 #<-delete the leading # to profile how long this cell block runs\n",
    "df = pd.read_csv('OP_DTL_GNRL_PGYR2018_P01172020.csv',usecols=['Total_Amount_of_Payment_USDollars'])\n",
    "s = df.sum()\n"
   ]
  },
  {
   "cell_type": "code",
   "execution_count": 5,
   "metadata": {},
   "outputs": [
    {
     "name": "stdout",
     "output_type": "stream",
     "text": [
      "The total of payments in 2018 was 3009122433.1200004\n"
     ]
    }
   ],
   "source": [
    "print(f'The total of payments in 2018 was {s[0]}')"
   ]
  },
  {
   "cell_type": "markdown",
   "metadata": {},
   "source": [
    "**We can also use chunksize which returns a generator of dataframes**"
   ]
  },
  {
   "cell_type": "code",
   "execution_count": 6,
   "metadata": {
    "collapsed": true
   },
   "outputs": [],
   "source": [
    "#%%timeit -n1 -r3 #<-delete the leading # to profile how long this cell block runs\n",
    "dfs = pd.read_csv('OP_DTL_GNRL_PGYR2018_P01172020.csv',usecols=['Total_Amount_of_Payment_USDollars'],chunksize=100000)\n",
    "s = 0\n",
    "for df in dfs:\n",
    "    s = s + df.sum()"
   ]
  },
  {
   "cell_type": "code",
   "execution_count": 7,
   "metadata": {},
   "outputs": [
    {
     "name": "stdout",
     "output_type": "stream",
     "text": [
      "The total of payments in 2018 was 3009122433.120002\n"
     ]
    }
   ],
   "source": [
    "print(f'The total of payments in 2018 was {s[0]}')"
   ]
  },
  {
   "cell_type": "markdown",
   "metadata": {},
   "source": [
    "## What were the top 10 states receiving the most total amount of payments?"
   ]
  },
  {
   "cell_type": "code",
   "execution_count": 8,
   "metadata": {
    "collapsed": true
   },
   "outputs": [],
   "source": [
    "cols_to_use = ['Recipient_State', 'Total_Amount_of_Payment_USDollars']"
   ]
  },
  {
   "cell_type": "code",
   "execution_count": 9,
   "metadata": {
    "collapsed": true
   },
   "outputs": [],
   "source": [
    "df = pd.read_csv('OP_DTL_GNRL_PGYR2018_P01172020.csv',usecols=cols_to_use)"
   ]
  },
  {
   "cell_type": "code",
   "execution_count": 10,
   "metadata": {},
   "outputs": [
    {
     "name": "stdout",
     "output_type": "stream",
     "text": [
      "<class 'pandas.core.frame.DataFrame'>\n",
      "RangeIndex: 10815629 entries, 0 to 10815628\n",
      "Data columns (total 2 columns):\n",
      "Recipient_State                      object\n",
      "Total_Amount_of_Payment_USDollars    float64\n",
      "dtypes: float64(1), object(1)\n",
      "memory usage: 691.1 MB\n"
     ]
    }
   ],
   "source": [
    "# explore memory usage for this dataframe\n",
    "df.info(memory_usage='deep')"
   ]
  },
  {
   "cell_type": "code",
   "execution_count": 11,
   "metadata": {},
   "outputs": [
    {
     "name": "stdout",
     "output_type": "stream",
     "text": [
      "<class 'pandas.core.frame.DataFrame'>\n",
      "RangeIndex: 10815629 entries, 0 to 10815628\n",
      "Data columns (total 2 columns):\n",
      "Recipient_State                      category\n",
      "Total_Amount_of_Payment_USDollars    float64\n",
      "dtypes: category(1), float64(1)\n",
      "memory usage: 92.8 MB\n"
     ]
    }
   ],
   "source": [
    "# by default when pandas see a columns with non numeric type or mixed type, it'll save that column as object\n",
    "# In this case the recipient_state is stored as object, requiring memory usage of 691.1MB\n",
    "# if we know the total different unique value for a column is less than the total number of rows then\n",
    "# we can change that column type to category\n",
    "# in this case we reduce memory usage to 92.8MB\n",
    "df.Recipient_State = df.Recipient_State.astype('category')\n",
    "df.info(memory_usage='deep')"
   ]
  },
  {
   "cell_type": "code",
   "execution_count": 15,
   "metadata": {
    "collapsed": true
   },
   "outputs": [],
   "source": [
    "# Alternatively, if we can anticipate the column type beforehand\n",
    "# we can use dtype parameter to specify the type of each of the imported columns\n",
    "types = ['category','float64']\n",
    "df = pd.read_csv('OP_DTL_GNRL_PGYR2018_P01172020.csv',usecols=cols_to_use,dtype=dict(zip(cols_to_use,types)))"
   ]
  },
  {
   "cell_type": "code",
   "execution_count": 16,
   "metadata": {},
   "outputs": [
    {
     "name": "stdout",
     "output_type": "stream",
     "text": [
      "<class 'pandas.core.frame.DataFrame'>\n",
      "RangeIndex: 10815629 entries, 0 to 10815628\n",
      "Data columns (total 2 columns):\n",
      "Recipient_State                      category\n",
      "Total_Amount_of_Payment_USDollars    float64\n",
      "dtypes: category(1), float64(1)\n",
      "memory usage: 92.8 MB\n"
     ]
    }
   ],
   "source": [
    "df.info(memory_usage='deep')"
   ]
  },
  {
   "cell_type": "code",
   "execution_count": 17,
   "metadata": {},
   "outputs": [
    {
     "data": {
      "text/html": [
       "<div>\n",
       "<style scoped>\n",
       "    .dataframe tbody tr th:only-of-type {\n",
       "        vertical-align: middle;\n",
       "    }\n",
       "\n",
       "    .dataframe tbody tr th {\n",
       "        vertical-align: top;\n",
       "    }\n",
       "\n",
       "    .dataframe thead th {\n",
       "        text-align: right;\n",
       "    }\n",
       "</style>\n",
       "<table border=\"1\" class=\"dataframe\">\n",
       "  <thead>\n",
       "    <tr style=\"text-align: right;\">\n",
       "      <th></th>\n",
       "      <th>Total_Amount_of_Payment_USDollars</th>\n",
       "    </tr>\n",
       "    <tr>\n",
       "      <th>Recipient_State</th>\n",
       "      <th></th>\n",
       "    </tr>\n",
       "  </thead>\n",
       "  <tbody>\n",
       "    <tr>\n",
       "      <th>CA</th>\n",
       "      <td>8.270775e+08</td>\n",
       "    </tr>\n",
       "    <tr>\n",
       "      <th>TX</th>\n",
       "      <td>2.131902e+08</td>\n",
       "    </tr>\n",
       "    <tr>\n",
       "      <th>NY</th>\n",
       "      <td>2.013341e+08</td>\n",
       "    </tr>\n",
       "    <tr>\n",
       "      <th>MA</th>\n",
       "      <td>1.590107e+08</td>\n",
       "    </tr>\n",
       "    <tr>\n",
       "      <th>FL</th>\n",
       "      <td>1.583672e+08</td>\n",
       "    </tr>\n",
       "    <tr>\n",
       "      <th>PA</th>\n",
       "      <td>1.325657e+08</td>\n",
       "    </tr>\n",
       "    <tr>\n",
       "      <th>OH</th>\n",
       "      <td>1.028195e+08</td>\n",
       "    </tr>\n",
       "    <tr>\n",
       "      <th>IL</th>\n",
       "      <td>8.819981e+07</td>\n",
       "    </tr>\n",
       "    <tr>\n",
       "      <th>MI</th>\n",
       "      <td>8.643460e+07</td>\n",
       "    </tr>\n",
       "    <tr>\n",
       "      <th>NC</th>\n",
       "      <td>7.725628e+07</td>\n",
       "    </tr>\n",
       "  </tbody>\n",
       "</table>\n",
       "</div>"
      ],
      "text/plain": [
       "                 Total_Amount_of_Payment_USDollars\n",
       "Recipient_State                                   \n",
       "CA                                    8.270775e+08\n",
       "TX                                    2.131902e+08\n",
       "NY                                    2.013341e+08\n",
       "MA                                    1.590107e+08\n",
       "FL                                    1.583672e+08\n",
       "PA                                    1.325657e+08\n",
       "OH                                    1.028195e+08\n",
       "IL                                    8.819981e+07\n",
       "MI                                    8.643460e+07\n",
       "NC                                    7.725628e+07"
      ]
     },
     "execution_count": 17,
     "metadata": {},
     "output_type": "execute_result"
    }
   ],
   "source": [
    "df.groupby('Recipient_State').sum().sort_values(by='Total_Amount_of_Payment_USDollars',ascending=False)[0:10]"
   ]
  },
  {
   "cell_type": "markdown",
   "metadata": {},
   "source": []
  },
  {
   "cell_type": "markdown",
   "metadata": {},
   "source": [
    "## **What were the top 10 states with the highest average amount of payment? (Assignment 1)**\n",
    "Submit your answers on canvas"
   ]
  },
  {
   "cell_type": "code",
   "execution_count": 17,
   "metadata": {},
   "outputs": [],
   "source": [
    "def readData(filename, columns, columns_type):\n",
    "    \"\"\"Read in only columns and specify columns type from filename\"\"\"\n",
    "    return pd.read_csv(filename,usecols=columns,dtype=dict(zip(columns,columns_type)))\n",
    "\n",
    "filename = 'OP_DTL_GNRL_PGYR2018_P01172020.csv'\n",
    "cols_to_use = ['Recipient_State', \n",
    "               'Total_Amount_of_Payment_USDollars',\n",
    "               'Number_of_Payments_Included_in_Total_Amount',\n",
    "               'Physician_Specialty']\n",
    "\n",
    "types = ['category','float64','float64','category']\n",
    "\n",
    "df = readData(filename,cols_to_use,types)"
   ]
  },
  {
   "cell_type": "code",
   "execution_count": 20,
   "metadata": {},
   "outputs": [
    {
     "name": "stdout",
     "output_type": "stream",
     "text": [
      "Index(['Recipient_State', 'Physician_Specialty',\n",
      "       'Total_Amount_of_Payment_USDollars',\n",
      "       'Number_of_Payments_Included_in_Total_Amount'],\n",
      "      dtype='object')\n"
     ]
    }
   ],
   "source": [
    "print(df.columns) # find the order of column"
   ]
  },
  {
   "cell_type": "code",
   "execution_count": 21,
   "metadata": {
    "collapsed": true
   },
   "outputs": [],
   "source": [
    "df.columns = ['state','specialty','total_amount','payment_count']"
   ]
  },
  {
   "cell_type": "code",
   "execution_count": 27,
   "metadata": {},
   "outputs": [],
   "source": [
    "df_state = df.groupby('state').agg({'total_amount':'sum','payment_count':'sum'})\n",
    "df_state['average_amount'] = df_state['total_amount'].div(df_state['payment_count'])"
   ]
  },
  {
   "cell_type": "code",
   "execution_count": 29,
   "metadata": {},
   "outputs": [
    {
     "data": {
      "text/html": [
       "<div>\n",
       "<style>\n",
       "    .dataframe thead tr:only-child th {\n",
       "        text-align: right;\n",
       "    }\n",
       "\n",
       "    .dataframe thead th {\n",
       "        text-align: left;\n",
       "    }\n",
       "\n",
       "    .dataframe tbody tr th {\n",
       "        vertical-align: top;\n",
       "    }\n",
       "</style>\n",
       "<table border=\"1\" class=\"dataframe\">\n",
       "  <thead>\n",
       "    <tr style=\"text-align: right;\">\n",
       "      <th></th>\n",
       "      <th>total_amount</th>\n",
       "      <th>payment_count</th>\n",
       "      <th>average_amount</th>\n",
       "    </tr>\n",
       "    <tr>\n",
       "      <th>state</th>\n",
       "      <th></th>\n",
       "      <th></th>\n",
       "      <th></th>\n",
       "    </tr>\n",
       "  </thead>\n",
       "  <tbody>\n",
       "    <tr>\n",
       "      <th>ND</th>\n",
       "      <td>1.877303e+07</td>\n",
       "      <td>14906.0</td>\n",
       "      <td>1259.428015</td>\n",
       "    </tr>\n",
       "    <tr>\n",
       "      <th>MA</th>\n",
       "      <td>1.590107e+08</td>\n",
       "      <td>163137.0</td>\n",
       "      <td>974.706810</td>\n",
       "    </tr>\n",
       "    <tr>\n",
       "      <th>VT</th>\n",
       "      <td>1.698693e+06</td>\n",
       "      <td>1893.0</td>\n",
       "      <td>897.355219</td>\n",
       "    </tr>\n",
       "    <tr>\n",
       "      <th>MN</th>\n",
       "      <td>4.051842e+07</td>\n",
       "      <td>47694.0</td>\n",
       "      <td>849.549619</td>\n",
       "    </tr>\n",
       "    <tr>\n",
       "      <th>CA</th>\n",
       "      <td>8.270775e+08</td>\n",
       "      <td>1131008.0</td>\n",
       "      <td>731.274695</td>\n",
       "    </tr>\n",
       "    <tr>\n",
       "      <th>PW</th>\n",
       "      <td>4.751420e+03</td>\n",
       "      <td>9.0</td>\n",
       "      <td>527.935556</td>\n",
       "    </tr>\n",
       "    <tr>\n",
       "      <th>DC</th>\n",
       "      <td>1.859181e+07</td>\n",
       "      <td>39858.0</td>\n",
       "      <td>466.451212</td>\n",
       "    </tr>\n",
       "    <tr>\n",
       "      <th>WA</th>\n",
       "      <td>5.361370e+07</td>\n",
       "      <td>126284.0</td>\n",
       "      <td>424.548610</td>\n",
       "    </tr>\n",
       "    <tr>\n",
       "      <th>CO</th>\n",
       "      <td>5.631983e+07</td>\n",
       "      <td>134555.0</td>\n",
       "      <td>418.563613</td>\n",
       "    </tr>\n",
       "    <tr>\n",
       "      <th>UT</th>\n",
       "      <td>2.517961e+07</td>\n",
       "      <td>75079.0</td>\n",
       "      <td>335.374922</td>\n",
       "    </tr>\n",
       "  </tbody>\n",
       "</table>\n",
       "</div>"
      ],
      "text/plain": [
       "       total_amount  payment_count  average_amount\n",
       "state                                             \n",
       "ND     1.877303e+07        14906.0     1259.428015\n",
       "MA     1.590107e+08       163137.0      974.706810\n",
       "VT     1.698693e+06         1893.0      897.355219\n",
       "MN     4.051842e+07        47694.0      849.549619\n",
       "CA     8.270775e+08      1131008.0      731.274695\n",
       "PW     4.751420e+03            9.0      527.935556\n",
       "DC     1.859181e+07        39858.0      466.451212\n",
       "WA     5.361370e+07       126284.0      424.548610\n",
       "CO     5.631983e+07       134555.0      418.563613\n",
       "UT     2.517961e+07        75079.0      335.374922"
      ]
     },
     "execution_count": 29,
     "metadata": {},
     "output_type": "execute_result"
    }
   ],
   "source": [
    "df_state.sort_values(by='average_amount',ascending=False)[0:10]"
   ]
  },
  {
   "cell_type": "markdown",
   "metadata": {},
   "source": [
    "PW isn't one of 50 states and the payment count is only 9. This might be an outlier and we'd need further analysis if we were doing for a thorough report."
   ]
  },
  {
   "cell_type": "markdown",
   "metadata": {},
   "source": [
    "## **What were the 3 top physician specialties with the highest average amount of payments in CA and FL? **(Assignment 1)**\n",
    "Submit your answers on canvas"
   ]
  },
  {
   "cell_type": "markdown",
   "metadata": {},
   "source": [
    "A general practice is to package codes that would be repeated more than twice into a function"
   ]
  },
  {
   "cell_type": "code",
   "execution_count": 41,
   "metadata": {},
   "outputs": [],
   "source": [
    "def findTopStateSpecialty(df,state,top=3):\n",
    "    df_state = df.loc[df['state']==state].copy() # copy to avoid pass in by values\n",
    "    df_state = df_state.groupby('specialty').agg({'total_amount':'sum','payment_count':'sum'})\n",
    "    df_state['average_amount'] = df_state['total_amount'].div(df_state['payment_count'])\n",
    "    return df_state.sort_values(by='average_amount',ascending=False)[0:top]\n"
   ]
  },
  {
   "cell_type": "code",
   "execution_count": 42,
   "metadata": {},
   "outputs": [
    {
     "data": {
      "text/html": [
       "<div>\n",
       "<style>\n",
       "    .dataframe thead tr:only-child th {\n",
       "        text-align: right;\n",
       "    }\n",
       "\n",
       "    .dataframe thead th {\n",
       "        text-align: left;\n",
       "    }\n",
       "\n",
       "    .dataframe tbody tr th {\n",
       "        vertical-align: top;\n",
       "    }\n",
       "</style>\n",
       "<table border=\"1\" class=\"dataframe\">\n",
       "  <thead>\n",
       "    <tr style=\"text-align: right;\">\n",
       "      <th></th>\n",
       "      <th>total_amount</th>\n",
       "      <th>payment_count</th>\n",
       "      <th>average_amount</th>\n",
       "    </tr>\n",
       "    <tr>\n",
       "      <th>specialty</th>\n",
       "      <th></th>\n",
       "      <th></th>\n",
       "      <th></th>\n",
       "    </tr>\n",
       "  </thead>\n",
       "  <tbody>\n",
       "    <tr>\n",
       "      <th>Allopathic &amp; Osteopathic Physicians|Plastic Surgery|Plastic Surgery Within the Head and Neck</th>\n",
       "      <td>16714669.12</td>\n",
       "      <td>127.0</td>\n",
       "      <td>131611.567874</td>\n",
       "    </tr>\n",
       "    <tr>\n",
       "      <th>Allopathic &amp; Osteopathic Physicians|Clinical Pharmacology</th>\n",
       "      <td>255583.90</td>\n",
       "      <td>28.0</td>\n",
       "      <td>9127.996429</td>\n",
       "    </tr>\n",
       "    <tr>\n",
       "      <th>Dental Providers|Dentist|Endodontics</th>\n",
       "      <td>12337210.23</td>\n",
       "      <td>1775.0</td>\n",
       "      <td>6950.540975</td>\n",
       "    </tr>\n",
       "  </tbody>\n",
       "</table>\n",
       "</div>"
      ],
      "text/plain": [
       "                                                    total_amount  \\\n",
       "specialty                                                          \n",
       "Allopathic & Osteopathic Physicians|Plastic Sur...   16714669.12   \n",
       "Allopathic & Osteopathic Physicians|Clinical Ph...     255583.90   \n",
       "Dental Providers|Dentist|Endodontics                 12337210.23   \n",
       "\n",
       "                                                    payment_count  \\\n",
       "specialty                                                           \n",
       "Allopathic & Osteopathic Physicians|Plastic Sur...          127.0   \n",
       "Allopathic & Osteopathic Physicians|Clinical Ph...           28.0   \n",
       "Dental Providers|Dentist|Endodontics                       1775.0   \n",
       "\n",
       "                                                    average_amount  \n",
       "specialty                                                           \n",
       "Allopathic & Osteopathic Physicians|Plastic Sur...   131611.567874  \n",
       "Allopathic & Osteopathic Physicians|Clinical Ph...     9127.996429  \n",
       "Dental Providers|Dentist|Endodontics                   6950.540975  "
      ]
     },
     "execution_count": 42,
     "metadata": {},
     "output_type": "execute_result"
    }
   ],
   "source": [
    "findTopStateSpecialty(df,'CA',3)"
   ]
  },
  {
   "cell_type": "code",
   "execution_count": 43,
   "metadata": {},
   "outputs": [
    {
     "data": {
      "text/html": [
       "<div>\n",
       "<style>\n",
       "    .dataframe thead tr:only-child th {\n",
       "        text-align: right;\n",
       "    }\n",
       "\n",
       "    .dataframe thead th {\n",
       "        text-align: left;\n",
       "    }\n",
       "\n",
       "    .dataframe tbody tr th {\n",
       "        vertical-align: top;\n",
       "    }\n",
       "</style>\n",
       "<table border=\"1\" class=\"dataframe\">\n",
       "  <thead>\n",
       "    <tr style=\"text-align: right;\">\n",
       "      <th></th>\n",
       "      <th>total_amount</th>\n",
       "      <th>payment_count</th>\n",
       "      <th>average_amount</th>\n",
       "    </tr>\n",
       "    <tr>\n",
       "      <th>specialty</th>\n",
       "      <th></th>\n",
       "      <th></th>\n",
       "      <th></th>\n",
       "    </tr>\n",
       "  </thead>\n",
       "  <tbody>\n",
       "    <tr>\n",
       "      <th>Allopathic &amp; Osteopathic Physicians|Surgery|Surgery of the Hand</th>\n",
       "      <td>1603286.88</td>\n",
       "      <td>192.0</td>\n",
       "      <td>8350.452500</td>\n",
       "    </tr>\n",
       "    <tr>\n",
       "      <th>Allopathic &amp; Osteopathic Physicians|Pathology|Blood Banking &amp; Transfusion Medicine</th>\n",
       "      <td>224257.49</td>\n",
       "      <td>58.0</td>\n",
       "      <td>3866.508448</td>\n",
       "    </tr>\n",
       "    <tr>\n",
       "      <th>Allopathic &amp; Osteopathic Physicians|Orthopaedic Surgery|Orthopaedic Trauma</th>\n",
       "      <td>1115548.73</td>\n",
       "      <td>552.0</td>\n",
       "      <td>2020.921612</td>\n",
       "    </tr>\n",
       "  </tbody>\n",
       "</table>\n",
       "</div>"
      ],
      "text/plain": [
       "                                                    total_amount  \\\n",
       "specialty                                                          \n",
       "Allopathic & Osteopathic Physicians|Surgery|Sur...    1603286.88   \n",
       "Allopathic & Osteopathic Physicians|Pathology|B...     224257.49   \n",
       "Allopathic & Osteopathic Physicians|Orthopaedic...    1115548.73   \n",
       "\n",
       "                                                    payment_count  \\\n",
       "specialty                                                           \n",
       "Allopathic & Osteopathic Physicians|Surgery|Sur...          192.0   \n",
       "Allopathic & Osteopathic Physicians|Pathology|B...           58.0   \n",
       "Allopathic & Osteopathic Physicians|Orthopaedic...          552.0   \n",
       "\n",
       "                                                    average_amount  \n",
       "specialty                                                           \n",
       "Allopathic & Osteopathic Physicians|Surgery|Sur...     8350.452500  \n",
       "Allopathic & Osteopathic Physicians|Pathology|B...     3866.508448  \n",
       "Allopathic & Osteopathic Physicians|Orthopaedic...     2020.921612  "
      ]
     },
     "execution_count": 43,
     "metadata": {},
     "output_type": "execute_result"
    }
   ],
   "source": [
    "findTopStateSpecialty(df,'FL',3)"
   ]
  },
  {
   "cell_type": "code",
   "execution_count": null,
   "metadata": {
    "collapsed": true
   },
   "outputs": [],
   "source": []
  }
 ],
 "metadata": {
  "kernelspec": {
   "display_name": "Python 3",
   "language": "python",
   "name": "python3"
  },
  "language_info": {
   "codemirror_mode": {
    "name": "ipython",
    "version": 3
   },
   "file_extension": ".py",
   "mimetype": "text/x-python",
   "name": "python",
   "nbconvert_exporter": "python",
   "pygments_lexer": "ipython3",
   "version": "3.6.8"
  }
 },
 "nbformat": 4,
 "nbformat_minor": 4
}
